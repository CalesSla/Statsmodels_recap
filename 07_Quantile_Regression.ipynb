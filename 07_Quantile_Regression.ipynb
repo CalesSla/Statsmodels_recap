{
 "cells": [
  {
   "cell_type": "code",
   "execution_count": 3,
   "metadata": {},
   "outputs": [
    {
     "data": {
      "text/html": [
       "<div>\n",
       "<style scoped>\n",
       "    .dataframe tbody tr th:only-of-type {\n",
       "        vertical-align: middle;\n",
       "    }\n",
       "\n",
       "    .dataframe tbody tr th {\n",
       "        vertical-align: top;\n",
       "    }\n",
       "\n",
       "    .dataframe thead th {\n",
       "        text-align: right;\n",
       "    }\n",
       "</style>\n",
       "<table border=\"1\" class=\"dataframe\">\n",
       "  <thead>\n",
       "    <tr style=\"text-align: right;\">\n",
       "      <th></th>\n",
       "      <th>income</th>\n",
       "      <th>foodexp</th>\n",
       "    </tr>\n",
       "  </thead>\n",
       "  <tbody>\n",
       "    <tr>\n",
       "      <th>0</th>\n",
       "      <td>420.157651</td>\n",
       "      <td>255.839425</td>\n",
       "    </tr>\n",
       "    <tr>\n",
       "      <th>1</th>\n",
       "      <td>541.411707</td>\n",
       "      <td>310.958667</td>\n",
       "    </tr>\n",
       "    <tr>\n",
       "      <th>2</th>\n",
       "      <td>901.157457</td>\n",
       "      <td>485.680014</td>\n",
       "    </tr>\n",
       "    <tr>\n",
       "      <th>3</th>\n",
       "      <td>639.080229</td>\n",
       "      <td>402.997356</td>\n",
       "    </tr>\n",
       "    <tr>\n",
       "      <th>4</th>\n",
       "      <td>750.875606</td>\n",
       "      <td>495.560775</td>\n",
       "    </tr>\n",
       "  </tbody>\n",
       "</table>\n",
       "</div>"
      ],
      "text/plain": [
       "       income     foodexp\n",
       "0  420.157651  255.839425\n",
       "1  541.411707  310.958667\n",
       "2  901.157457  485.680014\n",
       "3  639.080229  402.997356\n",
       "4  750.875606  495.560775"
      ]
     },
     "execution_count": 3,
     "metadata": {},
     "output_type": "execute_result"
    }
   ],
   "source": [
    "import numpy as np\n",
    "import pandas as pd\n",
    "import statsmodels.api as sm\n",
    "import statsmodels.formula.api as smf\n",
    "import matplotlib.pyplot as plt\n",
    "%matplotlib inline\n",
    "\n",
    "data = sm.datasets.engel.load_pandas().data\n",
    "data.head()"
   ]
  },
  {
   "cell_type": "code",
   "execution_count": 4,
   "metadata": {},
   "outputs": [
    {
     "data": {
      "text/html": [
       "<table class=\"simpletable\">\n",
       "<caption>QuantReg Regression Results</caption>\n",
       "<tr>\n",
       "  <th>Dep. Variable:</th>      <td>foodexp</td>     <th>  Pseudo R-squared:  </th> <td>  0.6206</td>\n",
       "</tr>\n",
       "<tr>\n",
       "  <th>Model:</th>             <td>QuantReg</td>     <th>  Bandwidth:         </th> <td>   64.51</td>\n",
       "</tr>\n",
       "<tr>\n",
       "  <th>Method:</th>          <td>Least Squares</td>  <th>  Sparsity:          </th> <td>   209.3</td>\n",
       "</tr>\n",
       "<tr>\n",
       "  <th>Date:</th>          <td>Fri, 14 Jun 2024</td> <th>  No. Observations:  </th>  <td>   235</td> \n",
       "</tr>\n",
       "<tr>\n",
       "  <th>Time:</th>              <td>09:08:40</td>     <th>  Df Residuals:      </th>  <td>   233</td> \n",
       "</tr>\n",
       "<tr>\n",
       "  <th> </th>                      <td> </td>        <th>  Df Model:          </th>  <td>     1</td> \n",
       "</tr>\n",
       "</table>\n",
       "<table class=\"simpletable\">\n",
       "<tr>\n",
       "      <td></td>         <th>coef</th>     <th>std err</th>      <th>t</th>      <th>P>|t|</th>  <th>[0.025</th>    <th>0.975]</th>  \n",
       "</tr>\n",
       "<tr>\n",
       "  <th>Intercept</th> <td>   81.4823</td> <td>   14.634</td> <td>    5.568</td> <td> 0.000</td> <td>   52.649</td> <td>  110.315</td>\n",
       "</tr>\n",
       "<tr>\n",
       "  <th>income</th>    <td>    0.5602</td> <td>    0.013</td> <td>   42.516</td> <td> 0.000</td> <td>    0.534</td> <td>    0.586</td>\n",
       "</tr>\n",
       "</table><br/><br/>The condition number is large, 2.38e+03. This might indicate that there are<br/>strong multicollinearity or other numerical problems."
      ],
      "text/latex": [
       "\\begin{center}\n",
       "\\begin{tabular}{lclc}\n",
       "\\toprule\n",
       "\\textbf{Dep. Variable:} &     foodexp      & \\textbf{  Pseudo R-squared:  } &    0.6206   \\\\\n",
       "\\textbf{Model:}         &     QuantReg     & \\textbf{  Bandwidth:         } &     64.51   \\\\\n",
       "\\textbf{Method:}        &  Least Squares   & \\textbf{  Sparsity:          } &     209.3   \\\\\n",
       "\\textbf{Date:}          & Fri, 14 Jun 2024 & \\textbf{  No. Observations:  } &      235    \\\\\n",
       "\\textbf{Time:}          &     09:08:40     & \\textbf{  Df Residuals:      } &      233    \\\\\n",
       "\\textbf{ }              &                  & \\textbf{  Df Model:          } &        1    \\\\\n",
       "\\bottomrule\n",
       "\\end{tabular}\n",
       "\\begin{tabular}{lcccccc}\n",
       "                   & \\textbf{coef} & \\textbf{std err} & \\textbf{t} & \\textbf{P$> |$t$|$} & \\textbf{[0.025} & \\textbf{0.975]}  \\\\\n",
       "\\midrule\n",
       "\\textbf{Intercept} &      81.4823  &       14.634     &     5.568  &         0.000        &       52.649    &      110.315     \\\\\n",
       "\\textbf{income}    &       0.5602  &        0.013     &    42.516  &         0.000        &        0.534    &        0.586     \\\\\n",
       "\\bottomrule\n",
       "\\end{tabular}\n",
       "%\\caption{QuantReg Regression Results}\n",
       "\\end{center}\n",
       "\n",
       "The condition number is large, 2.38e+03. This might indicate that there are \\newline\n",
       " strong multicollinearity or other numerical problems."
      ],
      "text/plain": [
       "<class 'statsmodels.iolib.summary.Summary'>\n",
       "\"\"\"\n",
       "                         QuantReg Regression Results                          \n",
       "==============================================================================\n",
       "Dep. Variable:                foodexp   Pseudo R-squared:               0.6206\n",
       "Model:                       QuantReg   Bandwidth:                       64.51\n",
       "Method:                 Least Squares   Sparsity:                        209.3\n",
       "Date:                Fri, 14 Jun 2024   No. Observations:                  235\n",
       "Time:                        09:08:40   Df Residuals:                      233\n",
       "                                        Df Model:                            1\n",
       "==============================================================================\n",
       "                 coef    std err          t      P>|t|      [0.025      0.975]\n",
       "------------------------------------------------------------------------------\n",
       "Intercept     81.4823     14.634      5.568      0.000      52.649     110.315\n",
       "income         0.5602      0.013     42.516      0.000       0.534       0.586\n",
       "==============================================================================\n",
       "\n",
       "The condition number is large, 2.38e+03. This might indicate that there are\n",
       "strong multicollinearity or other numerical problems.\n",
       "\"\"\""
      ]
     },
     "execution_count": 4,
     "metadata": {},
     "output_type": "execute_result"
    }
   ],
   "source": [
    "model = smf.quantreg(\"foodexp ~ income\", data)\n",
    "res = model.fit(q=0.5)\n",
    "res.summary()"
   ]
  },
  {
   "cell_type": "code",
   "execution_count": 6,
   "metadata": {},
   "outputs": [
    {
     "name": "stdout",
     "output_type": "stream",
     "text": [
      "      q           a         b        lb        ub\n",
      "0  0.05  124.880097  0.343361  0.268632  0.418090\n",
      "1  0.15  111.693660  0.423708  0.382780  0.464636\n",
      "2  0.25   95.483539  0.474103  0.439900  0.508306\n",
      "3  0.35  105.841294  0.488901  0.457759  0.520043\n",
      "4  0.45   81.083647  0.552428  0.525021  0.579835\n",
      "5  0.55   89.661370  0.565601  0.540955  0.590247\n",
      "6  0.65   74.033435  0.604576  0.582169  0.626982\n",
      "7  0.75   62.396584  0.644014  0.622411  0.665617\n",
      "8  0.85   52.272216  0.677603  0.657383  0.697823\n",
      "9  0.95   64.103964  0.709069  0.687831  0.730306\n",
      "{'a': 147.47538852370573, 'b': 0.48517842367692354, 'lb': 0.4568738130184233, 'ub': 0.5134830343354237}\n"
     ]
    }
   ],
   "source": [
    "quantiles = np.arange(0.05, 0.96, 0.1)\n",
    "def fit_model(q):\n",
    "    res = model.fit(q=q)\n",
    "    return [q, res.params[\"Intercept\"], res.params[\"income\"]] + res.conf_int().loc[\"income\"].tolist()\n",
    "\n",
    "models = [fit_model(x) for x in quantiles]\n",
    "models = pd.DataFrame(models, columns=[\"q\", \"a\", \"b\", \"lb\", \"ub\"])\n",
    "\n",
    "ols = smf.ols(\"foodexp ~ income\", data).fit()\n",
    "ols_ci = ols.conf_int().loc[\"income\"].tolist()\n",
    "ols_dict = dict(a=ols.params[\"Intercept\"],\n",
    "                b=ols.params[\"income\"],\n",
    "                lb=ols_ci[0],\n",
    "                ub=ols_ci[1])\n",
    "\n",
    "print(models)\n",
    "print(ols_dict)"
   ]
  },
  {
   "cell_type": "code",
   "execution_count": 7,
   "metadata": {},
   "outputs": [
    {
     "data": {
      "image/png": "[encoded data removed]",
      "text/plain": [
       "<Figure size 1000x600 with 1 Axes>"
      ]
     },
     "metadata": {},
     "output_type": "display_data"
    }
   ],
   "source": [
    "x = np.arange(data.income.min(), data.income.max(), 50)\n",
    "get_y = lambda a, b: a + b + x\n",
    "fig, ax = plt.subplots(figsize=(10, 6))\n",
    "\n",
    "# for i in range(models.shape[0]):\n",
    "    # y = get_y"
   ]
  },
  {
   "cell_type": "code",
   "execution_count": null,
   "metadata": {},
   "outputs": [],
   "source": []
  },
  {
   "cell_type": "code",
   "execution_count": null,
   "metadata": {},
   "outputs": [],
   "source": []
  }
 ],
 "metadata": {
  "kernelspec": {
   "display_name": "Python 3",
   "language": "python",
   "name": "python3"
  },
  "language_info": {
   "codemirror_mode": {
    "name": "ipython",
    "version": 3
   },
   "file_extension": ".py",
   "mimetype": "text/x-python",
   "name": "python",
   "nbconvert_exporter": "python",
   "pygments_lexer": "ipython3",
   "version": "3.11.4"
  }
 },
 "nbformat": 4,
 "nbformat_minor": 2
}
