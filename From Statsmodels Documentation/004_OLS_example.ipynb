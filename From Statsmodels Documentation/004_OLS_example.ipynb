{
 "cells": [
  {
   "cell_type": "code",
   "execution_count": 1,
   "metadata": {},
   "outputs": [],
   "source": [
    "%matplotlib inline\n",
    "import matplotlib.pyplot as plt\n",
    "import numpy as np\n",
    "import pandas as pd\n",
    "import statsmodels.api as sm\n",
    "\n",
    "np.random.seed(9876789)\n"
   ]
  },
  {
   "cell_type": "code",
   "execution_count": 2,
   "metadata": {},
   "outputs": [],
   "source": [
    "nsample = 100\n",
    "x = np.linspace(0, 10, 100)\n",
    "X = np.column_stack((x, x ** 2))\n",
    "beta = np.array([1, 0.1, 10])\n",
    "e = np.random.normal(size=nsample)\n",
    "\n",
    "X = sm.add_constant(X)\n",
    "y = np.dot(X, beta) + e"
   ]
  },
  {
   "cell_type": "code",
   "execution_count": 3,
   "metadata": {},
   "outputs": [
    {
     "data": {
      "text/plain": [
       "array([1.59484106e-01, 2.70962667e+00, 1.89386568e+00, 1.44041774e+00,\n",
       "       5.60719622e+00, 4.01415960e+00, 3.79042816e+00, 5.49896267e+00,\n",
       "       7.93934063e+00, 9.31871940e+00, 1.16151797e+01, 1.30800908e+01,\n",
       "       1.65916731e+01, 1.90612419e+01, 2.22779839e+01, 2.22973772e+01,\n",
       "       2.90728303e+01, 2.95174936e+01, 3.43906010e+01, 3.68997190e+01,\n",
       "       4.15314299e+01, 4.65124798e+01, 4.87622029e+01, 5.54649378e+01,\n",
       "       6.03995721e+01, 6.68905550e+01, 7.10273234e+01, 7.57840504e+01,\n",
       "       8.32307851e+01, 8.80067872e+01, 9.24604592e+01, 1.00869036e+02,\n",
       "       1.05000770e+02, 1.13078878e+02, 1.18651097e+02, 1.26357451e+02,\n",
       "       1.32682080e+02, 1.39131512e+02, 1.47437302e+02, 1.56109386e+02,\n",
       "       1.64097051e+02, 1.73688174e+02, 1.81821259e+02, 1.88890813e+02,\n",
       "       1.99352099e+02, 2.10227715e+02, 2.16641136e+02, 2.28077202e+02,\n",
       "       2.37086627e+02, 2.45435044e+02, 2.56253216e+02, 2.66268455e+02,\n",
       "       2.77388427e+02, 2.88835852e+02, 2.97996070e+02, 3.11225764e+02,\n",
       "       3.20222632e+02, 3.34500736e+02, 3.44501923e+02, 3.54912182e+02,\n",
       "       3.69614763e+02, 3.79619250e+02, 3.91610439e+02, 4.07712238e+02,\n",
       "       4.19465289e+02, 4.32534578e+02, 4.46978741e+02, 4.59369684e+02,\n",
       "       4.72600426e+02, 4.86936696e+02, 5.01205937e+02, 5.16248974e+02,\n",
       "       5.30375416e+02, 5.46084472e+02, 5.62111718e+02, 5.75818401e+02,\n",
       "       5.89890017e+02, 6.05658290e+02, 6.21938723e+02, 6.38481747e+02,\n",
       "       6.54547765e+02, 6.72619064e+02, 6.88445270e+02, 7.04880480e+02,\n",
       "       7.20761701e+02, 7.40023290e+02, 7.56122969e+02, 7.75755497e+02,\n",
       "       7.90868951e+02, 8.10124196e+02, 8.27670766e+02, 8.46145961e+02,\n",
       "       8.67189694e+02, 8.84269551e+02, 9.02190720e+02, 9.23205757e+02,\n",
       "       9.44357509e+02, 9.60546815e+02, 9.82038002e+02, 1.00013685e+03])"
      ]
     },
     "execution_count": 3,
     "metadata": {},
     "output_type": "execute_result"
    }
   ],
   "source": [
    "y"
   ]
  },
  {
   "cell_type": "code",
   "execution_count": null,
   "metadata": {},
   "outputs": [],
   "source": []
  }
 ],
 "metadata": {
  "kernelspec": {
   "display_name": "Python 3",
   "language": "python",
   "name": "python3"
  },
  "language_info": {
   "codemirror_mode": {
    "name": "ipython",
    "version": 3
   },
   "file_extension": ".py",
   "mimetype": "text/x-python",
   "name": "python",
   "nbconvert_exporter": "python",
   "pygments_lexer": "ipython3",
   "version": "3.11.4"
  }
 },
 "nbformat": 4,
 "nbformat_minor": 2
}
