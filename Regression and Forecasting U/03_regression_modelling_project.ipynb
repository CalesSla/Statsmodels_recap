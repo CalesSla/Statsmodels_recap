{
 "cells": [
  {
   "cell_type": "markdown",
   "id": "ab65c870",
   "metadata": {},
   "source": [
    "## Regression Project\n",
    "\n",
    "Build a linear regression model that predicts the `price` column in the dataset on San Francisco Apartment rentals. Make sure to go through all the the relevant steps of the modelling workflow.\n",
    "\n",
    "1. Data Cleaning has already been performed on this data\n",
    "2. Explore the data, keeping an eye on useful features and potential issues \n",
    "3. Choose a model validation scheme (simple or cross validation)\n",
    "4. Fit a Linear Regression Model\n",
    "5. Evaluate your model - check assumptions, metrics, and coefficient estimates\n",
    "6. Engineer Features as needed\n",
    "7. Repeat Steps 2, 4, 5, 6 as needed\n",
    "8. Once you are ready, fit your final model and report final model performance estimate by scoring on the test data. Report both test R-squared and MAE.\n",
    "\n",
    "A reasonable goal is to get a validation MAE of <= 500 dollars.\n",
    "\n",
    "Advice:\n",
    "\n",
    "1. \"Perfect\" is the enemy of \"Good\".\n",
    "2. You will not get to an MAE of 0, we don't have perfect data, and there is some randomness and emotion in how things like apartment prices are set. \n",
    "3. Modelling is challenging, especially if you're new. There isn't a \"right\" answer, but some models are better than others. Remember - \"All Models are wrong, but some are useful\" \n",
    "4. We will likely end up with different models and performance metrics, and that's ok. You can always implement new ideas after watching the solution video. I didn't do anything too fancy, so you might think of some great ideas I didn't!\n",
    "5. Enjoy the process, and remember that at some point it's time to let the model go. No amount of feature engineering will achieve a perfect model."
   ]
  },
  {
   "cell_type": "code",
   "execution_count": 50,
   "id": "7cb398c6",
   "metadata": {},
   "outputs": [
    {
     "data": {
      "text/html": [
       "<div>\n",
       "<style scoped>\n",
       "    .dataframe tbody tr th:only-of-type {\n",
       "        vertical-align: middle;\n",
       "    }\n",
       "\n",
       "    .dataframe tbody tr th {\n",
       "        vertical-align: top;\n",
       "    }\n",
       "\n",
       "    .dataframe thead th {\n",
       "        text-align: right;\n",
       "    }\n",
       "</style>\n",
       "<table border=\"1\" class=\"dataframe\">\n",
       "  <thead>\n",
       "    <tr style=\"text-align: right;\">\n",
       "      <th></th>\n",
       "      <th>price</th>\n",
       "      <th>sqft</th>\n",
       "      <th>beds</th>\n",
       "      <th>bath</th>\n",
       "      <th>laundry</th>\n",
       "      <th>pets</th>\n",
       "      <th>housing_type</th>\n",
       "      <th>sqft2</th>\n",
       "      <th>sqft3</th>\n",
       "      <th>sqft_bath</th>\n",
       "      <th>beds_bath_ratio</th>\n",
       "      <th>parking_(d) no parking</th>\n",
       "      <th>parking_off-street or prot</th>\n",
       "      <th>hood_district_central</th>\n",
       "      <th>hood_district_marina</th>\n",
       "      <th>hood_district_north beach</th>\n",
       "      <th>hood_district_southwest</th>\n",
       "      <th>hood_district_west</th>\n",
       "    </tr>\n",
       "  </thead>\n",
       "  <tbody>\n",
       "    <tr>\n",
       "      <th>0</th>\n",
       "      <td>6800</td>\n",
       "      <td>1600.0</td>\n",
       "      <td>2.0</td>\n",
       "      <td>2.0</td>\n",
       "      <td>1</td>\n",
       "      <td>0</td>\n",
       "      <td>1</td>\n",
       "      <td>2560000.0</td>\n",
       "      <td>4.096000e+09</td>\n",
       "      <td>3200.0</td>\n",
       "      <td>1.0</td>\n",
       "      <td>0</td>\n",
       "      <td>1</td>\n",
       "      <td>0</td>\n",
       "      <td>1</td>\n",
       "      <td>0</td>\n",
       "      <td>0</td>\n",
       "      <td>0</td>\n",
       "    </tr>\n",
       "    <tr>\n",
       "      <th>1</th>\n",
       "      <td>3500</td>\n",
       "      <td>550.0</td>\n",
       "      <td>1.0</td>\n",
       "      <td>1.0</td>\n",
       "      <td>1</td>\n",
       "      <td>1</td>\n",
       "      <td>1</td>\n",
       "      <td>302500.0</td>\n",
       "      <td>1.663750e+08</td>\n",
       "      <td>550.0</td>\n",
       "      <td>1.0</td>\n",
       "      <td>0</td>\n",
       "      <td>1</td>\n",
       "      <td>0</td>\n",
       "      <td>1</td>\n",
       "      <td>0</td>\n",
       "      <td>0</td>\n",
       "      <td>0</td>\n",
       "    </tr>\n",
       "    <tr>\n",
       "      <th>2</th>\n",
       "      <td>5100</td>\n",
       "      <td>1300.0</td>\n",
       "      <td>2.0</td>\n",
       "      <td>1.0</td>\n",
       "      <td>1</td>\n",
       "      <td>1</td>\n",
       "      <td>1</td>\n",
       "      <td>1690000.0</td>\n",
       "      <td>2.197000e+09</td>\n",
       "      <td>1300.0</td>\n",
       "      <td>2.0</td>\n",
       "      <td>1</td>\n",
       "      <td>0</td>\n",
       "      <td>0</td>\n",
       "      <td>1</td>\n",
       "      <td>0</td>\n",
       "      <td>0</td>\n",
       "      <td>0</td>\n",
       "    </tr>\n",
       "    <tr>\n",
       "      <th>3</th>\n",
       "      <td>9000</td>\n",
       "      <td>3500.0</td>\n",
       "      <td>3.0</td>\n",
       "      <td>2.5</td>\n",
       "      <td>1</td>\n",
       "      <td>0</td>\n",
       "      <td>1</td>\n",
       "      <td>12250000.0</td>\n",
       "      <td>4.287500e+10</td>\n",
       "      <td>8750.0</td>\n",
       "      <td>1.2</td>\n",
       "      <td>0</td>\n",
       "      <td>1</td>\n",
       "      <td>0</td>\n",
       "      <td>1</td>\n",
       "      <td>0</td>\n",
       "      <td>0</td>\n",
       "      <td>0</td>\n",
       "    </tr>\n",
       "    <tr>\n",
       "      <th>4</th>\n",
       "      <td>3100</td>\n",
       "      <td>561.0</td>\n",
       "      <td>1.0</td>\n",
       "      <td>1.0</td>\n",
       "      <td>0</td>\n",
       "      <td>1</td>\n",
       "      <td>1</td>\n",
       "      <td>314721.0</td>\n",
       "      <td>1.765585e+08</td>\n",
       "      <td>561.0</td>\n",
       "      <td>1.0</td>\n",
       "      <td>1</td>\n",
       "      <td>0</td>\n",
       "      <td>0</td>\n",
       "      <td>1</td>\n",
       "      <td>0</td>\n",
       "      <td>0</td>\n",
       "      <td>0</td>\n",
       "    </tr>\n",
       "  </tbody>\n",
       "</table>\n",
       "</div>"
      ],
      "text/plain": [
       "   price    sqft  beds  bath  laundry  pets  housing_type       sqft2  \\\n",
       "0   6800  1600.0   2.0   2.0        1     0             1   2560000.0   \n",
       "1   3500   550.0   1.0   1.0        1     1             1    302500.0   \n",
       "2   5100  1300.0   2.0   1.0        1     1             1   1690000.0   \n",
       "3   9000  3500.0   3.0   2.5        1     0             1  12250000.0   \n",
       "4   3100   561.0   1.0   1.0        0     1             1    314721.0   \n",
       "\n",
       "          sqft3  sqft_bath  beds_bath_ratio  parking_(d) no parking  \\\n",
       "0  4.096000e+09     3200.0              1.0                       0   \n",
       "1  1.663750e+08      550.0              1.0                       0   \n",
       "2  2.197000e+09     1300.0              2.0                       1   \n",
       "3  4.287500e+10     8750.0              1.2                       0   \n",
       "4  1.765585e+08      561.0              1.0                       1   \n",
       "\n",
       "   parking_off-street or prot  hood_district_central  hood_district_marina  \\\n",
       "0                           1                      0                     1   \n",
       "1                           1                      0                     1   \n",
       "2                           0                      0                     1   \n",
       "3                           1                      0                     1   \n",
       "4                           0                      0                     1   \n",
       "\n",
       "   hood_district_north beach  hood_district_southwest  hood_district_west  \n",
       "0                          0                        0                   0  \n",
       "1                          0                        0                   0  \n",
       "2                          0                        0                   0  \n",
       "3                          0                        0                   0  \n",
       "4                          0                        0                   0  "
      ]
     },
     "execution_count": 50,
     "metadata": {},
     "output_type": "execute_result"
    }
   ],
   "source": [
    "import pandas as pd\n",
    "import numpy as np\n",
    "import matplotlib.pyplot as plt\n",
    "import seaborn as sns\n",
    "\n",
    "import statsmodels.api as sm\n",
    "from sklearn.model_selection import KFold\n",
    "from sklearn.metrics import r2_score as r2, mean_absolute_error as mae, mean_squared_error as mse\n",
    "\n",
    "df = pd.read_csv(\"sf_clean.csv\") \n",
    "\n",
    "def district_mapping(value):\n",
    "    if value in [2.0, 3.0, 10.0]:\n",
    "        return \"southwest\"\n",
    "    elif value in [1.0]:\n",
    "        return \"west\"\n",
    "    elif value in [4.0, 5.0, 6.0]:\n",
    "        return \"central\"\n",
    "    elif value in [7.0]:\n",
    "        return \"marina\"\n",
    "    elif value in [8.0]:\n",
    "        return \"north beach\"\n",
    "    else:\n",
    "        return \"FiDi/SOMA\"\n",
    "    \n",
    "\n",
    "def parking_mapping(value):\n",
    "    if value in ['(c) off-street', \"(b) protected\"]:\n",
    "        return \"off-street or prot\"\n",
    "    else:\n",
    "        return value\n",
    "\n",
    "df['hood_district'] = df['hood_district'].apply(district_mapping)\n",
    "df[\"pets\"] = np.where(df[\"pets\"] == \"(d) no pets\", 0, 1)\n",
    "df[\"parking\"] = df[\"parking\"].apply(parking_mapping)\n",
    "df[\"sqft2\"] = df[\"sqft\"] ** 2\n",
    "df[\"sqft3\"] = df[\"sqft\"] ** 3\n",
    "df[\"laundry\"] = np.where(df[\"laundry\"] ==  \"(a) in-unit\", 1, 0)\n",
    "df[\"housing_type\"] = np.where(df[\"housing_type\"] == \"(a) single\", 0, 1)\n",
    "df[\"sqft_bath\"] = df[\"sqft\"] * df[\"bath\"]\n",
    "df[\"beds_bath_ratio\"] = df[\"beds\"] / df[\"bath\"]\n",
    "# df[\"price\"] = np.log(df[\"price\"])\n",
    "\n",
    "df = df.drop([11, 253])\n",
    "df = df.reset_index(drop=True)\n",
    "\n",
    "df = pd.get_dummies(df, drop_first=True, dtype=int)\n",
    "\n",
    "\n",
    "df.head()"
   ]
  },
  {
   "cell_type": "code",
   "execution_count": 51,
   "id": "04d5261f",
   "metadata": {},
   "outputs": [],
   "source": [
    "# df[\"parking\"].value_counts()"
   ]
  },
  {
   "cell_type": "code",
   "execution_count": 52,
   "id": "5bf08aa4",
   "metadata": {},
   "outputs": [],
   "source": [
    "# sns.barplot(df.groupby(\"hood_district\")[\"price\"].mean())"
   ]
  },
  {
   "cell_type": "code",
   "execution_count": 53,
   "id": "07cf537b",
   "metadata": {},
   "outputs": [],
   "source": [
    "# df.groupby(\"hood_district\")[\"price\"].mean()\n"
   ]
  },
  {
   "cell_type": "code",
   "execution_count": 54,
   "id": "b1440921",
   "metadata": {},
   "outputs": [],
   "source": [
    "# df.corr(numeric_only=True)"
   ]
  },
  {
   "cell_type": "markdown",
   "id": "71dcbc2d",
   "metadata": {},
   "source": [
    "### Data Dictionary\n",
    "\n",
    "1. Price: The price of the rental and our target variable\n",
    "2. sqft: The area in square feet of the rental\n",
    "3. beds: The number of bedrooms in the rental\n",
    "4. bath: The number of bathrooms in the rental\n",
    "5. laundry: Does the rental have a laundry machine inside the house, a shared laundry machine, or no laundry on site?\n",
    "6. pets: Does the rental allow pets? Cats only, dogs only or both cats and dogs?\n",
    "7. Housing type: Is the rental in a multi-unit building, a building with two units, or a stand alone house? \n",
    "8. Parking: Does the apartment off a parking space? No, protected in a garage, off-street in a parking lot, or valet service?\n",
    "9. Hood district: Which part of San Francisco is the apartment located?\n",
    "\n",
    "![image info](SFAR_map.png)"
   ]
  },
  {
   "cell_type": "code",
   "execution_count": 56,
   "id": "0498eeef",
   "metadata": {},
   "outputs": [
    {
     "name": "stdout",
     "output_type": "stream",
     "text": [
      "Train r2: 0.787 +- 0.006\n",
      "\n",
      "Train MAE: 462.198 +- 9.649\n",
      "\n",
      "CV r2: 0.771 +- 0.024\n",
      "\n",
      "CV MAE: 473.8 +- 28.814\n"
     ]
    },
    {
     "name": "stderr",
     "output_type": "stream",
     "text": [
      "c:\\Users\\User\\AppData\\Local\\Programs\\Python\\Python311\\Lib\\site-packages\\pandas\\core\\arraylike.py:396: RuntimeWarning: overflow encountered in exp\n",
      "  result = getattr(ufunc, method)(*inputs, **kwargs)\n",
      "c:\\Users\\User\\AppData\\Local\\Programs\\Python\\Python311\\Lib\\site-packages\\pandas\\core\\arraylike.py:396: RuntimeWarning: overflow encountered in exp\n",
      "  result = getattr(ufunc, method)(*inputs, **kwargs)\n",
      "c:\\Users\\User\\AppData\\Local\\Programs\\Python\\Python311\\Lib\\site-packages\\pandas\\core\\arraylike.py:396: RuntimeWarning: overflow encountered in exp\n",
      "  result = getattr(ufunc, method)(*inputs, **kwargs)\n",
      "c:\\Users\\User\\AppData\\Local\\Programs\\Python\\Python311\\Lib\\site-packages\\pandas\\core\\arraylike.py:396: RuntimeWarning: overflow encountered in exp\n",
      "  result = getattr(ufunc, method)(*inputs, **kwargs)\n",
      "c:\\Users\\User\\AppData\\Local\\Programs\\Python\\Python311\\Lib\\site-packages\\pandas\\core\\arraylike.py:396: RuntimeWarning: overflow encountered in exp\n",
      "  result = getattr(ufunc, method)(*inputs, **kwargs)\n"
     ]
    },
    {
     "data": {
      "text/html": [
       "<table class=\"simpletable\">\n",
       "<caption>OLS Regression Results</caption>\n",
       "<tr>\n",
       "  <th>Dep. Variable:</th>          <td>price</td>      <th>  R-squared:         </th> <td>   0.786</td> \n",
       "</tr>\n",
       "<tr>\n",
       "  <th>Model:</th>                   <td>OLS</td>       <th>  Adj. R-squared:    </th> <td>   0.783</td> \n",
       "</tr>\n",
       "<tr>\n",
       "  <th>Method:</th>             <td>Least Squares</td>  <th>  F-statistic:       </th> <td>   259.7</td> \n",
       "</tr>\n",
       "<tr>\n",
       "  <th>Date:</th>             <td>Thu, 27 Jun 2024</td> <th>  Prob (F-statistic):</th> <td>1.61e-251</td>\n",
       "</tr>\n",
       "<tr>\n",
       "  <th>Time:</th>                 <td>19:14:18</td>     <th>  Log-Likelihood:    </th> <td> -6247.4</td> \n",
       "</tr>\n",
       "<tr>\n",
       "  <th>No. Observations:</th>      <td>   789</td>      <th>  AIC:               </th> <td>1.252e+04</td>\n",
       "</tr>\n",
       "<tr>\n",
       "  <th>Df Residuals:</th>          <td>   777</td>      <th>  BIC:               </th> <td>1.257e+04</td>\n",
       "</tr>\n",
       "<tr>\n",
       "  <th>Df Model:</th>              <td>    11</td>      <th>                     </th>     <td> </td>    \n",
       "</tr>\n",
       "<tr>\n",
       "  <th>Covariance Type:</th>      <td>nonrobust</td>    <th>                     </th>     <td> </td>    \n",
       "</tr>\n",
       "</table>\n",
       "<table class=\"simpletable\">\n",
       "<tr>\n",
       "               <td></td>                 <th>coef</th>     <th>std err</th>      <th>t</th>      <th>P>|t|</th>  <th>[0.025</th>    <th>0.975]</th>  \n",
       "</tr>\n",
       "<tr>\n",
       "  <th>const</th>                      <td> 1746.4147</td> <td>  155.037</td> <td>   11.264</td> <td> 0.000</td> <td> 1442.073</td> <td> 2050.756</td>\n",
       "</tr>\n",
       "<tr>\n",
       "  <th>sqft</th>                       <td>    1.8271</td> <td>    0.096</td> <td>   18.957</td> <td> 0.000</td> <td>    1.638</td> <td>    2.016</td>\n",
       "</tr>\n",
       "<tr>\n",
       "  <th>beds</th>                       <td>  195.8876</td> <td>   36.528</td> <td>    5.363</td> <td> 0.000</td> <td>  124.182</td> <td>  267.593</td>\n",
       "</tr>\n",
       "<tr>\n",
       "  <th>bath</th>                       <td>  340.4085</td> <td>   66.244</td> <td>    5.139</td> <td> 0.000</td> <td>  210.370</td> <td>  470.447</td>\n",
       "</tr>\n",
       "<tr>\n",
       "  <th>parking_(d) no parking</th>     <td>-1025.7939</td> <td>  136.956</td> <td>   -7.490</td> <td> 0.000</td> <td>-1294.642</td> <td> -756.946</td>\n",
       "</tr>\n",
       "<tr>\n",
       "  <th>parking_off-street or prot</th> <td> -846.0382</td> <td>  132.457</td> <td>   -6.387</td> <td> 0.000</td> <td>-1106.053</td> <td> -586.023</td>\n",
       "</tr>\n",
       "<tr>\n",
       "  <th>hood_district_central</th>      <td>  201.6601</td> <td>   72.231</td> <td>    2.792</td> <td> 0.005</td> <td>   59.870</td> <td>  343.451</td>\n",
       "</tr>\n",
       "<tr>\n",
       "  <th>hood_district_marina</th>       <td>  367.7432</td> <td>   86.234</td> <td>    4.264</td> <td> 0.000</td> <td>  198.463</td> <td>  537.023</td>\n",
       "</tr>\n",
       "<tr>\n",
       "  <th>hood_district_north beach</th>  <td>   79.7657</td> <td>   70.098</td> <td>    1.138</td> <td> 0.256</td> <td>  -57.839</td> <td>  217.370</td>\n",
       "</tr>\n",
       "<tr>\n",
       "  <th>hood_district_southwest</th>    <td> -481.6349</td> <td>   88.548</td> <td>   -5.439</td> <td> 0.000</td> <td> -655.457</td> <td> -307.813</td>\n",
       "</tr>\n",
       "<tr>\n",
       "  <th>hood_district_west</th>         <td> -140.9684</td> <td>  126.200</td> <td>   -1.117</td> <td> 0.264</td> <td> -388.701</td> <td>  106.764</td>\n",
       "</tr>\n",
       "<tr>\n",
       "  <th>laundry</th>                    <td>  245.6442</td> <td>   56.411</td> <td>    4.355</td> <td> 0.000</td> <td>  134.908</td> <td>  356.380</td>\n",
       "</tr>\n",
       "</table>\n",
       "<table class=\"simpletable\">\n",
       "<tr>\n",
       "  <th>Omnibus:</th>       <td>298.826</td> <th>  Durbin-Watson:     </th> <td>   2.066</td>\n",
       "</tr>\n",
       "<tr>\n",
       "  <th>Prob(Omnibus):</th> <td> 0.000</td>  <th>  Jarque-Bera (JB):  </th> <td>2382.829</td>\n",
       "</tr>\n",
       "<tr>\n",
       "  <th>Skew:</th>          <td> 1.495</td>  <th>  Prob(JB):          </th> <td>    0.00</td>\n",
       "</tr>\n",
       "<tr>\n",
       "  <th>Kurtosis:</th>      <td>10.972</td>  <th>  Cond. No.          </th> <td>1.05e+04</td>\n",
       "</tr>\n",
       "</table><br/><br/>Notes:<br/>[1] Standard Errors assume that the covariance matrix of the errors is correctly specified.<br/>[2] The condition number is large, 1.05e+04. This might indicate that there are<br/>strong multicollinearity or other numerical problems."
      ],
      "text/latex": [
       "\\begin{center}\n",
       "\\begin{tabular}{lclc}\n",
       "\\toprule\n",
       "\\textbf{Dep. Variable:}              &      price       & \\textbf{  R-squared:         } &     0.786   \\\\\n",
       "\\textbf{Model:}                      &       OLS        & \\textbf{  Adj. R-squared:    } &     0.783   \\\\\n",
       "\\textbf{Method:}                     &  Least Squares   & \\textbf{  F-statistic:       } &     259.7   \\\\\n",
       "\\textbf{Date:}                       & Thu, 27 Jun 2024 & \\textbf{  Prob (F-statistic):} & 1.61e-251   \\\\\n",
       "\\textbf{Time:}                       &     19:14:18     & \\textbf{  Log-Likelihood:    } &   -6247.4   \\\\\n",
       "\\textbf{No. Observations:}           &         789      & \\textbf{  AIC:               } & 1.252e+04   \\\\\n",
       "\\textbf{Df Residuals:}               &         777      & \\textbf{  BIC:               } & 1.257e+04   \\\\\n",
       "\\textbf{Df Model:}                   &          11      & \\textbf{                     } &             \\\\\n",
       "\\textbf{Covariance Type:}            &    nonrobust     & \\textbf{                     } &             \\\\\n",
       "\\bottomrule\n",
       "\\end{tabular}\n",
       "\\begin{tabular}{lcccccc}\n",
       "                                     & \\textbf{coef} & \\textbf{std err} & \\textbf{t} & \\textbf{P$> |$t$|$} & \\textbf{[0.025} & \\textbf{0.975]}  \\\\\n",
       "\\midrule\n",
       "\\textbf{const}                       &    1746.4147  &      155.037     &    11.264  &         0.000        &     1442.073    &     2050.756     \\\\\n",
       "\\textbf{sqft}                        &       1.8271  &        0.096     &    18.957  &         0.000        &        1.638    &        2.016     \\\\\n",
       "\\textbf{beds}                        &     195.8876  &       36.528     &     5.363  &         0.000        &      124.182    &      267.593     \\\\\n",
       "\\textbf{bath}                        &     340.4085  &       66.244     &     5.139  &         0.000        &      210.370    &      470.447     \\\\\n",
       "\\textbf{parking\\_(d) no parking}     &   -1025.7939  &      136.956     &    -7.490  &         0.000        &    -1294.642    &     -756.946     \\\\\n",
       "\\textbf{parking\\_off-street or prot} &    -846.0382  &      132.457     &    -6.387  &         0.000        &    -1106.053    &     -586.023     \\\\\n",
       "\\textbf{hood\\_district\\_central}     &     201.6601  &       72.231     &     2.792  &         0.005        &       59.870    &      343.451     \\\\\n",
       "\\textbf{hood\\_district\\_marina}      &     367.7432  &       86.234     &     4.264  &         0.000        &      198.463    &      537.023     \\\\\n",
       "\\textbf{hood\\_district\\_north beach} &      79.7657  &       70.098     &     1.138  &         0.256        &      -57.839    &      217.370     \\\\\n",
       "\\textbf{hood\\_district\\_southwest}   &    -481.6349  &       88.548     &    -5.439  &         0.000        &     -655.457    &     -307.813     \\\\\n",
       "\\textbf{hood\\_district\\_west}        &    -140.9684  &      126.200     &    -1.117  &         0.264        &     -388.701    &      106.764     \\\\\n",
       "\\textbf{laundry}                     &     245.6442  &       56.411     &     4.355  &         0.000        &      134.908    &      356.380     \\\\\n",
       "\\bottomrule\n",
       "\\end{tabular}\n",
       "\\begin{tabular}{lclc}\n",
       "\\textbf{Omnibus:}       & 298.826 & \\textbf{  Durbin-Watson:     } &    2.066  \\\\\n",
       "\\textbf{Prob(Omnibus):} &   0.000 & \\textbf{  Jarque-Bera (JB):  } & 2382.829  \\\\\n",
       "\\textbf{Skew:}          &   1.495 & \\textbf{  Prob(JB):          } &     0.00  \\\\\n",
       "\\textbf{Kurtosis:}      &  10.972 & \\textbf{  Cond. No.          } & 1.05e+04  \\\\\n",
       "\\bottomrule\n",
       "\\end{tabular}\n",
       "%\\caption{OLS Regression Results}\n",
       "\\end{center}\n",
       "\n",
       "Notes: \\newline\n",
       " [1] Standard Errors assume that the covariance matrix of the errors is correctly specified. \\newline\n",
       " [2] The condition number is large, 1.05e+04. This might indicate that there are \\newline\n",
       " strong multicollinearity or other numerical problems."
      ],
      "text/plain": [
       "<class 'statsmodels.iolib.summary.Summary'>\n",
       "\"\"\"\n",
       "                            OLS Regression Results                            \n",
       "==============================================================================\n",
       "Dep. Variable:                  price   R-squared:                       0.786\n",
       "Model:                            OLS   Adj. R-squared:                  0.783\n",
       "Method:                 Least Squares   F-statistic:                     259.7\n",
       "Date:                Thu, 27 Jun 2024   Prob (F-statistic):          1.61e-251\n",
       "Time:                        19:14:18   Log-Likelihood:                -6247.4\n",
       "No. Observations:                 789   AIC:                         1.252e+04\n",
       "Df Residuals:                     777   BIC:                         1.257e+04\n",
       "Df Model:                          11                                         \n",
       "Covariance Type:            nonrobust                                         \n",
       "==============================================================================================\n",
       "                                 coef    std err          t      P>|t|      [0.025      0.975]\n",
       "----------------------------------------------------------------------------------------------\n",
       "const                       1746.4147    155.037     11.264      0.000    1442.073    2050.756\n",
       "sqft                           1.8271      0.096     18.957      0.000       1.638       2.016\n",
       "beds                         195.8876     36.528      5.363      0.000     124.182     267.593\n",
       "bath                         340.4085     66.244      5.139      0.000     210.370     470.447\n",
       "parking_(d) no parking     -1025.7939    136.956     -7.490      0.000   -1294.642    -756.946\n",
       "parking_off-street or prot  -846.0382    132.457     -6.387      0.000   -1106.053    -586.023\n",
       "hood_district_central        201.6601     72.231      2.792      0.005      59.870     343.451\n",
       "hood_district_marina         367.7432     86.234      4.264      0.000     198.463     537.023\n",
       "hood_district_north beach     79.7657     70.098      1.138      0.256     -57.839     217.370\n",
       "hood_district_southwest     -481.6349     88.548     -5.439      0.000    -655.457    -307.813\n",
       "hood_district_west          -140.9684    126.200     -1.117      0.264    -388.701     106.764\n",
       "laundry                      245.6442     56.411      4.355      0.000     134.908     356.380\n",
       "==============================================================================\n",
       "Omnibus:                      298.826   Durbin-Watson:                   2.066\n",
       "Prob(Omnibus):                  0.000   Jarque-Bera (JB):             2382.829\n",
       "Skew:                           1.495   Prob(JB):                         0.00\n",
       "Kurtosis:                      10.972   Cond. No.                     1.05e+04\n",
       "==============================================================================\n",
       "\n",
       "Notes:\n",
       "[1] Standard Errors assume that the covariance matrix of the errors is correctly specified.\n",
       "[2] The condition number is large, 1.05e+04. This might indicate that there are\n",
       "strong multicollinearity or other numerical problems.\n",
       "\"\"\""
      ]
     },
     "execution_count": 56,
     "metadata": {},
     "output_type": "execute_result"
    }
   ],
   "source": [
    "cols = [\"sqft\", \"beds\", \"bath\", \"parking_(d) no parking\", \"parking_off-street or prot\", \"hood_district_central\", \"hood_district_marina\", \"hood_district_north beach\", \"hood_district_southwest\", \"hood_district_west\", \"laundry\"]\n",
    "\n",
    "from sklearn.model_selection import KFold\n",
    "from sklearn.metrics import r2_score as r2, mean_absolute_error as mae\n",
    "from sklearn.model_selection import train_test_split\n",
    "\n",
    "kf = KFold(n_splits=5, shuffle=True, random_state=123)\n",
    "\n",
    "tr_r2s = []\n",
    "tr_maes = []\n",
    "val_r2s = []\n",
    "val_maes = []\n",
    "\n",
    "X = sm.add_constant(df[cols])\n",
    "y = df[\"price\"]\n",
    "# y = np.log(df[\"price\"])\n",
    "\n",
    "\n",
    "X, X_test, y, y_test = train_test_split(X, y, test_size=0.2, random_state=123)\n",
    "\n",
    "\n",
    "for train_ind, val_ind in kf.split(X, y):\n",
    "    X_train, y_train = X.iloc[train_ind], y.iloc[train_ind]\n",
    "    X_val, y_val = X.iloc[val_ind], y.iloc[val_ind]\n",
    "    \n",
    "    model = sm.OLS(y_train, X_train).fit()\n",
    "    tr_preds = model.predict(X_train)\n",
    "    val_preds = model.predict(X_val)\n",
    "\n",
    "    tr_preds_orig = np.exp(tr_preds)\n",
    "    y_tr_orig = np.exp(y_train)\n",
    "    val_preds_orig = np.exp(val_preds)\n",
    "    y_val_orig = np.exp(y_val)\n",
    "    \n",
    "    \n",
    "    tr_r2s.append(r2(y_train, tr_preds))\n",
    "    tr_maes.append(mae(y_train, tr_preds))\n",
    "    val_r2s.append(r2(y_val, val_preds))\n",
    "    val_maes.append(mae(y_val, val_preds))\n",
    "\n",
    "    # tr_r2s.append(r2(y_tr_orig, tr_preds_orig))\n",
    "    # tr_maes.append(mae(y_tr_orig, tr_preds_orig))\n",
    "    # val_r2s.append(r2(y_val_orig, val_preds_orig))\n",
    "    # val_maes.append(mae(y_val_orig, val_preds_orig))\n",
    "    \n",
    "\n",
    "# print(\"Train R2s: \", [round(x, 3) for x in tr_r2s])\n",
    "print(f\"Train r2: {round(np.mean(tr_r2s), 3)} +- {round(np.std(tr_r2s), 3)}\")\n",
    "print()\n",
    "# print(\"Train MAEs: \", [round(x, 3) for x in tr_maes])\n",
    "print(f\"Train MAE: {round(np.mean(tr_maes), 3)} +- {round(np.std(tr_maes), 3)}\")\n",
    "print()\n",
    "\n",
    "# print(\"Val R2s: \", [round(x, 3) for x in val_r2s])\n",
    "print(f\"CV r2: {round(np.mean(val_r2s), 3)} +- {round(np.std(val_r2s), 3)}\")\n",
    "print()\n",
    "# print(\"Val MAEs: \", [round(x, 3) for x in val_maes])\n",
    "print(f\"CV MAE: {round(np.mean(val_maes), 3)} +- {round(np.std(val_maes), 3)}\")\n",
    "\n",
    "model = sm.OLS(y, X).fit()\n",
    "model.summary()"
   ]
  },
  {
   "cell_type": "code",
   "execution_count": 57,
   "id": "bed11689",
   "metadata": {},
   "outputs": [
    {
     "data": {
      "text/plain": [
       "600    0.27\n",
       "861    0.10\n",
       "925    0.08\n",
       "205    0.07\n",
       "764    0.07\n",
       "       ... \n",
       "837    0.00\n",
       "330    0.00\n",
       "251    0.00\n",
       "49     0.00\n",
       "398    0.00\n",
       "Name: cooks_d, Length: 789, dtype: float64"
      ]
     },
     "execution_count": 57,
     "metadata": {},
     "output_type": "execute_result"
    }
   ],
   "source": [
    "influence = model.get_influence()\n",
    "inf_summary_df = influence.summary_frame()\n",
    "inf_summary_df.head()\n",
    "inf_summary_df[\"cooks_d\"].sort_values(ascending=False).round(2)"
   ]
  },
  {
   "cell_type": "markdown",
   "id": "f9c7b82d",
   "metadata": {},
   "source": [
    "## EDA\n"
   ]
  },
  {
   "cell_type": "code",
   "execution_count": 58,
   "id": "590cd22f",
   "metadata": {},
   "outputs": [
    {
     "data": {
      "image/png": "[encoded data removed]",
      "text/plain": [
       "<Figure size 1000x600 with 2 Axes>"
      ]
     },
     "metadata": {},
     "output_type": "display_data"
    }
   ],
   "source": [
    "def residual_analysis_plots(model):\n",
    "\n",
    "    import scipy.stats as stats\n",
    "    import matplotlib.pyplot as plt\n",
    "\n",
    "    predictions = model.predict()\n",
    "    residuals = model.resid\n",
    "\n",
    "    fig, ax = plt.subplots(1, 2, sharey=\"all\", figsize=(10, 6))\n",
    "    \n",
    "    sns.scatterplot(x=predictions, y=residuals, ax=ax[0], alpha=0.3)\n",
    "    ax[0].set_title(\"Residual Plot\")\n",
    "    ax[0].set_xlabel(\"Prediction\")\n",
    "    ax[0].set_ylabel(\"Residuals\")\n",
    "\n",
    "    stats.probplot(residuals, dist=\"norm\", plot=ax[1])\n",
    "    ax[1].set_title(\"Normal Q-Q Plot\")\n",
    "\n",
    "residual_analysis_plots(model)"
   ]
  },
  {
   "cell_type": "code",
   "execution_count": 59,
   "id": "1033f245",
   "metadata": {},
   "outputs": [
    {
     "data": {
      "text/plain": [
       "const                         42.285701\n",
       "sqft                           3.433333\n",
       "beds                           2.682813\n",
       "bath                           2.254438\n",
       "parking_(d) no parking         8.229303\n",
       "parking_off-street or prot     7.711821\n",
       "hood_district_central          1.376784\n",
       "hood_district_marina           1.334824\n",
       "hood_district_north beach      1.436081\n",
       "hood_district_southwest        1.284578\n",
       "hood_district_west             1.155339\n",
       "laundry                        1.399524\n",
       "dtype: float64"
      ]
     },
     "execution_count": 59,
     "metadata": {},
     "output_type": "execute_result"
    }
   ],
   "source": [
    "from statsmodels.stats.outliers_influence import variance_inflation_factor as vif\n",
    "\n",
    "pd.Series(\n",
    "    [vif(X.values, i) for i in range(X.shape[1])],\n",
    "    index = X.columns\n",
    ")"
   ]
  },
  {
   "cell_type": "code",
   "execution_count": 60,
   "id": "8fd8f9bb",
   "metadata": {},
   "outputs": [],
   "source": [
    "# sns.pairplot(df)"
   ]
  },
  {
   "cell_type": "code",
   "execution_count": 61,
   "id": "90af7e28",
   "metadata": {},
   "outputs": [
    {
     "name": "stdout",
     "output_type": "stream",
     "text": [
      "Test MAE: 442.9811273131623\n",
      "Test R2: 0.7999669608223996\n"
     ]
    }
   ],
   "source": [
    "# print(mae(np.exp(y_test), np.exp(model.predict(X_test))))\n",
    "print(f\"Test MAE: {mae(y_test, model.predict(X_test))}\")\n",
    "print(f\"Test R2: {r2(y_test, model.predict(X_test))}\")"
   ]
  },
  {
   "cell_type": "markdown",
   "id": "00952509",
   "metadata": {},
   "source": [
    "## Feature Engineering\n"
   ]
  },
  {
   "cell_type": "code",
   "execution_count": null,
   "id": "5415cbae",
   "metadata": {},
   "outputs": [],
   "source": []
  },
  {
   "cell_type": "markdown",
   "id": "50752f8e",
   "metadata": {},
   "source": [
    "## Data Splitting"
   ]
  },
  {
   "cell_type": "code",
   "execution_count": 62,
   "id": "68a66cf2",
   "metadata": {},
   "outputs": [],
   "source": [
    "from sklearn.preprocessing import StandardScaler\n",
    "\n",
    "std = StandardScaler()\n",
    "X_tr = std.fit_transform(X.values)\n",
    "X_te = std.transform(X_test.values)"
   ]
  },
  {
   "cell_type": "code",
   "execution_count": 64,
   "id": "8edfae32",
   "metadata": {},
   "outputs": [
    {
     "name": "stdout",
     "output_type": "stream",
     "text": [
      "0.7860593266102469\n",
      "461.82024456397187\n",
      "4.768611697714469\n"
     ]
    }
   ],
   "source": [
    "from sklearn.linear_model import RidgeCV\n",
    "\n",
    "n_alphas = 200\n",
    "alphas = 10 ** np.linspace(-3, 3, n_alphas)\n",
    "ridge_model = RidgeCV(alphas=alphas, cv=5)\n",
    "\n",
    "ridge_model.fit(X_tr, y)\n",
    "print(ridge_model.score(X_tr, y))\n",
    "print(mae(y, ridge_model.predict(X_tr)))\n",
    "print(ridge_model.alpha_)"
   ]
  },
  {
   "cell_type": "code",
   "execution_count": 65,
   "id": "d1751392",
   "metadata": {},
   "outputs": [
    {
     "data": {
      "text/plain": [
       "[('const', 0.0),\n",
       " ('sqft', 827.237592734251),\n",
       " ('beds', 212.11837133034555),\n",
       " ('bath', 189.63752256975084),\n",
       " ('parking_(d) no parking', -474.24743802776015),\n",
       " ('parking_off-street or prot', -385.3359198406268),\n",
       " ('hood_district_central', 75.68811373763877),\n",
       " ('hood_district_marina', 115.88295571734767),\n",
       " ('hood_district_north beach', 31.00465652362083),\n",
       " ('hood_district_southwest', -148.2572236122835),\n",
       " ('hood_district_west', -29.556223971193866),\n",
       " ('laundry', 124.60767744337608)]"
      ]
     },
     "execution_count": 65,
     "metadata": {},
     "output_type": "execute_result"
    }
   ],
   "source": [
    "list(zip(X.columns, ridge_model.coef_))"
   ]
  },
  {
   "cell_type": "markdown",
   "id": "0117d1e6",
   "metadata": {},
   "source": [
    "## Model Fitting & Validation Scoring"
   ]
  },
  {
   "cell_type": "code",
   "execution_count": 29,
   "id": "a43a2df6",
   "metadata": {},
   "outputs": [
    {
     "name": "stdout",
     "output_type": "stream",
     "text": [
      "0.7830588597082968\n",
      "0.13790722071623052\n"
     ]
    }
   ],
   "source": [
    "print(ridge_model.score(X_te, y_test))\n",
    "print(mae(y_test, ridge_model.predict(X_te)))"
   ]
  },
  {
   "cell_type": "markdown",
   "id": "5cd00418",
   "metadata": {},
   "source": [
    "## Assumptions Checking"
   ]
  },
  {
   "cell_type": "code",
   "execution_count": 46,
   "id": "2ce961f6",
   "metadata": {},
   "outputs": [
    {
     "name": "stdout",
     "output_type": "stream",
     "text": [
      "0.7861742667102176\n",
      "462.863455588169\n",
      "0.001\n"
     ]
    }
   ],
   "source": [
    "from sklearn.linear_model import LassoCV\n",
    "\n",
    "n_alphas = 200\n",
    "alphas = 10 ** np.linspace(-3, 3, n_alphas)\n",
    "\n",
    "lasso_model = LassoCV(alphas=alphas, cv=5)\n",
    "lasso_model.fit(X_tr, y)\n",
    "\n",
    "print(lasso_model.score(X_tr, y))\n",
    "print(mae(y, lasso_model.predict(X_tr)))\n",
    "print(lasso_model.alpha_)"
   ]
  },
  {
   "cell_type": "code",
   "execution_count": 48,
   "id": "7ce9c331",
   "metadata": {},
   "outputs": [
    {
     "name": "stdout",
     "output_type": "stream",
     "text": [
      "0.7999671766725411\n"
     ]
    }
   ],
   "source": [
    "print(lasso_model.score(X_te, y_test))"
   ]
  },
  {
   "cell_type": "code",
   "execution_count": 49,
   "id": "802a5805",
   "metadata": {},
   "outputs": [
    {
     "data": {
      "text/plain": [
       "[('const', 0.0),\n",
       " ('sqft', 837.4582332826195),\n",
       " ('beds', 209.41519490112648),\n",
       " ('bath', 183.95503035965353),\n",
       " ('parking_(d) no parking', -512.2541864862343),\n",
       " ('parking_off-street or prot', -422.8810813209483),\n",
       " ('hood_district_central', 78.10079493964795),\n",
       " ('hood_district_marina', 117.46452788790182),\n",
       " ('hood_district_north beach', 32.50908342806044),\n",
       " ('hood_district_southwest', -146.98032754451054),\n",
       " ('hood_district_west', -28.62588934943825),\n",
       " ('laundry', 122.82045441024431)]"
      ]
     },
     "execution_count": 49,
     "metadata": {},
     "output_type": "execute_result"
    }
   ],
   "source": [
    "list(zip(X.columns, lasso_model.coef_))"
   ]
  },
  {
   "cell_type": "markdown",
   "id": "29894141",
   "metadata": {},
   "source": [
    "## Final Model Fit & Test Scoring"
   ]
  },
  {
   "cell_type": "code",
   "execution_count": null,
   "id": "aefd0a01",
   "metadata": {},
   "outputs": [],
   "source": []
  }
 ],
 "metadata": {
  "kernelspec": {
   "display_name": "Python 3 (ipykernel)",
   "language": "python",
   "name": "python3"
  },
  "language_info": {
   "codemirror_mode": {
    "name": "ipython",
    "version": 3
   },
   "file_extension": ".py",
   "mimetype": "text/x-python",
   "name": "python",
   "nbconvert_exporter": "python",
   "pygments_lexer": "ipython3",
   "version": "3.11.4"
  }
 },
 "nbformat": 4,
 "nbformat_minor": 5
}
